{
 "cells": [
  {
   "cell_type": "code",
   "execution_count": null,
   "metadata": {},
   "outputs": [],
   "source": [
    "from locust import HttpUser, task, between"
   ]
  },
  {
   "cell_type": "code",
   "execution_count": null,
   "metadata": {},
   "outputs": [],
   "source": [
    "\n",
    "class WebsiteUser(HttpUser):\n",
    "# Ustawienie czasu oczekiwania między zadaniami na 1 do 5 sekund.\n",
    "# Pozwala to symulować rzeczywiste zachowanie użytkownika, który nie\n",
    "#wykonuje żądań ciągle jeden po drugim,\n",
    "# ale z pewnymi przerwami.\n",
    "wait_time = between(1, 5)\n",
    "@task\n",
    "def view_homepage(self):\n",
    "# Wykonanie żądania GET do strony głównej serwisu.\n",
    "# To zadanie symuluje wejście użytkownika na stronę główną.\n",
    "self.client.get(\"/\")"
   ]
  }
 ],
 "metadata": {
  "language_info": {
   "name": "python"
  }
 },
 "nbformat": 4,
 "nbformat_minor": 2
}
